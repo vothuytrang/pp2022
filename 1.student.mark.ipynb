{
 "cells": [
  {
   "cell_type": "code",
   "execution_count": 1,
   "metadata": {
    "scrolled": false
   },
   "outputs": [
    {
     "ename": "SyntaxError",
     "evalue": "invalid syntax (<ipython-input-1-60de8d849eaf>, line 17)",
     "output_type": "error",
     "traceback": [
      "\u001b[1;36m  File \u001b[1;32m\"<ipython-input-1-60de8d849eaf>\"\u001b[1;36m, line \u001b[1;32m17\u001b[0m\n\u001b[1;33m    \"name\": None\u001b[0m\n\u001b[1;37m         ^\u001b[0m\n\u001b[1;31mSyntaxError\u001b[0m\u001b[1;31m:\u001b[0m invalid syntax\n"
     ]
    }
   ],
   "source": [
    "StudentID = []\n",
    "Marks = []\n",
    "\n",
    "def StudentNum():\n",
    "    a = int(input(\"Number of students \"))\n",
    "    return a\n",
    "    \n",
    "def StudentInfor(StudentNum):\n",
    "    a1 = input(\" ID : \")\n",
    "    a2 = input(\" Name : \")\n",
    "    a3 = input(\"DOB: \")\n",
    "    return a1, a2, a3\n",
    "    \n",
    "Students = []\n",
    "student = {\n",
    "    \"id\" : None\n",
    "    \"name\": None\n",
    "    \"DOB\":None\n",
    "}\n",
    "\n",
    "def CourseNum():\n",
    "    b = int(input(\"Enter Number of Courses\"))\n",
    "    return b\n",
    "\n",
    "def CourseInfor():\n",
    "    b1 = (\"Enter Course ID \")\n",
    "    b2 = (\"Enter Course Name \")\n",
    "    return b1, b2\n",
    "\n",
    "Courses = []\n",
    "\n",
    "course = {\n",
    "    \"id\" \n",
    "    \"name\"\n",
    "}\n",
    "\n",
    "def get_Marks():\n",
    "    for i in range(0, len(student)):\n",
    "        marks.append({course })\n",
    "        mark = c\n",
    "        c = float(input(\"Enter Mark: \"))\n",
    "        marks[i].update({course: mark})\n",
    "\n",
    "def display_StudentInfor():\n",
    "    print(\"Class's Student:\\n\" + student[i].get(\"a\"))\n",
    "    for i in range(0,len(marks)):\n",
    "        print(\"Student ID: \" + students[i].get(\"a1\"), \"Student name: \" + student[i].get(\"a2\"), \"Student DOB: \" + student[i].get(\"a3\"))\n",
    "\n",
    "def display_CourseInfor():\n",
    "    print(\"Number of courses : \\n\" + course[i].get(\"b\"))\n",
    "    for i in range(0,len(course)):\n",
    "        print(\"Course ID: \" + course[i].get(\"b1\"), \"Course name: \" + course[i].get(\"b2\"))\n",
    "\n",
    "def display_marks():\n",
    "    for i in range(0, len(student)):\n",
    "        print(\"Student marks: \" + course[i].get(\"c\"))\n",
    "        \n",
    "def add_student():\n",
    "    a1, a2, a3 = StudentInfor(StudentNum)\n",
    "    for i in range(0,StudentNum()):\n",
    "        StudentID = input(a1)\n",
    "        StudentName = input(a2)\n",
    "        StudentDOB = input(a3)\n",
    "    students.append(student)\n",
    "\n",
    "def list_student():\n",
    "    print (\"There %s students in the class\" % len(student))\n",
    "    for i in student:\n",
    "        print(\"Student infor \", i)\n",
    "\n",
    "def add_course():\n",
    "    for i in range(0,CourseNum()):\n",
    "        CourseID = input(b1)\n",
    "        CourseName = input (b2)\n",
    "    courses.append(course)\n",
    "\n",
    "def list_student():\n",
    "    print (\"There %s courses in the class\" % len(course))\n",
    "    for i in courses:\n",
    "        print(\"Course infor \", i)\n",
    "\n",
    "if __name__ == '__main__':\n",
    "    add_student()\n",
    "    list_student()\n",
    "        \n",
    "    add_course()\n",
    "    list_student()\n",
    "        \n",
    "    display_student()\n",
    "    display_course()\n",
    "\n"
   ]
  },
  {
   "cell_type": "code",
   "execution_count": null,
   "metadata": {},
   "outputs": [],
   "source": []
  },
  {
   "cell_type": "code",
   "execution_count": null,
   "metadata": {},
   "outputs": [],
   "source": []
  },
  {
   "cell_type": "code",
   "execution_count": null,
   "metadata": {},
   "outputs": [],
   "source": []
  }
 ],
 "metadata": {
  "kernelspec": {
   "display_name": "Python 3",
   "language": "python",
   "name": "python3"
  },
  "language_info": {
   "codemirror_mode": {
    "name": "ipython",
    "version": 3
   },
   "file_extension": ".py",
   "mimetype": "text/x-python",
   "name": "python",
   "nbconvert_exporter": "python",
   "pygments_lexer": "ipython3",
   "version": "3.7.1"
  }
 },
 "nbformat": 4,
 "nbformat_minor": 2
}
